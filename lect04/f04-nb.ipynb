{
 "cells": [
  {
   "cell_type": "markdown",
   "metadata": {},
   "source": [
    "# Some more SQL, and Database modeling"
   ]
  },
  {
   "cell_type": "code",
   "execution_count": 1,
   "metadata": {},
   "outputs": [],
   "source": [
    "%load_ext sql"
   ]
  },
  {
   "cell_type": "code",
   "execution_count": 2,
   "metadata": {},
   "outputs": [
    {
     "data": {
      "text/plain": [
       "u'Connected: @lect04.sqlite'"
      ]
     },
     "execution_count": 2,
     "metadata": {},
     "output_type": "execute_result"
    }
   ],
   "source": [
    "%sql sqlite:///lect04.sqlite"
   ]
  },
  {
   "cell_type": "markdown",
   "metadata": {},
   "source": [
    "## Two queries from the last lecture\n",
    "\n",
    "Last time we solved the following two problems:\n",
    "\n",
    "**Exercise:** Show the average `size_hs` for applications to\n",
    "the different colleges, order by descending size.\n",
    "\n",
    "We solved the problem using a view:"
   ]
  },
  {
   "cell_type": "code",
   "execution_count": 3,
   "metadata": {},
   "outputs": [
    {
     "name": "stdout",
     "output_type": "stream",
     "text": [
      " * sqlite:///lect04.sqlite\n",
      "Done.\n",
      "Done.\n"
     ]
    },
    {
     "data": {
      "text/plain": [
       "[]"
      ]
     },
     "execution_count": 3,
     "metadata": {},
     "output_type": "execute_result"
    }
   ],
   "source": [
    "%%sql\n",
    "DROP VIEW IF EXISTS student_applications;\n",
    "CREATE VIEW student_applications(s_id, c_name) AS\n",
    "    SELECT DISTINCT s_id, c_name\n",
    "    FROM            applications"
   ]
  },
  {
   "cell_type": "markdown",
   "metadata": {},
   "source": [
    "and used the view in a simple `SELECT` statement:"
   ]
  },
  {
   "cell_type": "code",
   "execution_count": 4,
   "metadata": {},
   "outputs": [
    {
     "name": "stdout",
     "output_type": "stream",
     "text": [
      " * sqlite:///lect04.sqlite\n",
      "Done.\n"
     ]
    },
    {
     "data": {
      "text/html": [
       "<table>\n",
       "    <tr>\n",
       "        <th>c_name</th>\n",
       "        <th>avg(size_hs)</th>\n",
       "    </tr>\n",
       "    <tr>\n",
       "        <td>Berkeley</td>\n",
       "        <td>1100.0</td>\n",
       "    </tr>\n",
       "    <tr>\n",
       "        <td>Cornell</td>\n",
       "        <td>1000.0</td>\n",
       "    </tr>\n",
       "    <tr>\n",
       "        <td>MIT</td>\n",
       "        <td>966.666666667</td>\n",
       "    </tr>\n",
       "    <tr>\n",
       "        <td>Stanford</td>\n",
       "        <td>780.0</td>\n",
       "    </tr>\n",
       "</table>"
      ],
      "text/plain": [
       "[(u'Berkeley', 1100.0),\n",
       " (u'Cornell', 1000.0),\n",
       " (u'MIT', 966.6666666666666),\n",
       " (u'Stanford', 780.0)]"
      ]
     },
     "execution_count": 4,
     "metadata": {},
     "output_type": "execute_result"
    }
   ],
   "source": [
    "%%sql\n",
    "SELECT   c_name, avg(size_hs)\n",
    "FROM     student_applications\n",
    "JOIN     students\n",
    "USING    (s_id)\n",
    "GROUP BY c_name"
   ]
  },
  {
   "cell_type": "markdown",
   "metadata": {},
   "source": [
    "Now, let's try to solve the problem with a subquery instead of a view:"
   ]
  },
  {
   "cell_type": "code",
   "execution_count": 6,
   "metadata": {},
   "outputs": [
    {
     "name": "stdout",
     "output_type": "stream",
     "text": [
      " * sqlite:///lect04.sqlite\n",
      "Done.\n"
     ]
    },
    {
     "data": {
      "text/html": [
       "<table>\n",
       "    <tr>\n",
       "        <th>c_name</th>\n",
       "        <th>avg(size_hs)</th>\n",
       "    </tr>\n",
       "    <tr>\n",
       "        <td>Berkeley</td>\n",
       "        <td>1100.0</td>\n",
       "    </tr>\n",
       "    <tr>\n",
       "        <td>Cornell</td>\n",
       "        <td>1000.0</td>\n",
       "    </tr>\n",
       "    <tr>\n",
       "        <td>MIT</td>\n",
       "        <td>966.666666667</td>\n",
       "    </tr>\n",
       "    <tr>\n",
       "        <td>Stanford</td>\n",
       "        <td>780.0</td>\n",
       "    </tr>\n",
       "</table>"
      ],
      "text/plain": [
       "[(u'Berkeley', 1100.0),\n",
       " (u'Cornell', 1000.0),\n",
       " (u'MIT', 966.6666666666666),\n",
       " (u'Stanford', 780.0)]"
      ]
     },
     "execution_count": 6,
     "metadata": {},
     "output_type": "execute_result"
    }
   ],
   "source": [
    "%%sql\n",
    "SELECT   c_name, avg(size_hs)\n",
    "FROM     student_applications\n",
    "JOIN     students\n",
    "USING    (s_id)\n",
    "GROUP BY c_name"
   ]
  },
  {
   "cell_type": "markdown",
   "metadata": {},
   "source": [
    "**Exercise:** (from last time) _Who has shared the chemistry prize\n",
    "with exactly one other laureate in years when the summer olympics were\n",
    "held in Europe?_ Solve the problem using several CTEs.\n",
    "\n",
    "We came up with the following solution:"
   ]
  },
  {
   "cell_type": "code",
   "execution_count": 8,
   "metadata": {},
   "outputs": [
    {
     "name": "stdout",
     "output_type": "stream",
     "text": [
      " * sqlite:///lect04.sqlite\n",
      "Done.\n"
     ]
    },
    {
     "data": {
      "text/html": [
       "<table>\n",
       "    <tr>\n",
       "        <th>year</th>\n",
       "        <th>name</th>\n",
       "    </tr>\n",
       "    <tr>\n",
       "        <td>1912</td>\n",
       "        <td>Paul Sabatier</td>\n",
       "    </tr>\n",
       "    <tr>\n",
       "        <td>1912</td>\n",
       "        <td>Victor Grignard</td>\n",
       "    </tr>\n",
       "    <tr>\n",
       "        <td>1952</td>\n",
       "        <td>Archer John Porter Martin</td>\n",
       "    </tr>\n",
       "    <tr>\n",
       "        <td>1952</td>\n",
       "        <td>Richard Laurence Millington Synge</td>\n",
       "    </tr>\n",
       "    <tr>\n",
       "        <td>2012</td>\n",
       "        <td>Brian K. Kobilka</td>\n",
       "    </tr>\n",
       "    <tr>\n",
       "        <td>2012</td>\n",
       "        <td>Robert J. Lefkowitz</td>\n",
       "    </tr>\n",
       "</table>"
      ],
      "text/plain": [
       "[(1912, u'Paul Sabatier'),\n",
       " (1912, u'Victor Grignard'),\n",
       " (1952, u'Archer John Porter Martin'),\n",
       " (1952, u'Richard Laurence Millington Synge'),\n",
       " (2012, u'Brian K. Kobilka'),\n",
       " (2012, u'Robert J. Lefkowitz')]"
      ]
     },
     "execution_count": 8,
     "metadata": {},
     "output_type": "execute_result"
    }
   ],
   "source": [
    "%%sql\n",
    "WITH\n",
    "  european_summer_olympics(year) AS (\n",
    "      SELECT year\n",
    "      FROM   olympics\n",
    "      WHERE  season = 'summer' AND continent = 'Europe'\n",
    "  ),\n",
    "  chemistry_laureates(name, year) AS (\n",
    "      SELECT name, year\n",
    "      FROM   nobel\n",
    "      WHERE  category = 'chemistry'\n",
    "  ),\n",
    "  years_with_two_chemistry_laureates(year) AS (\n",
    "      SELECT year\n",
    "      FROM   chemistry_laureates\n",
    "      GROUP BY year\n",
    "      HAVING count() = 2\n",
    "  ),\n",
    "  relevant_years(year) AS (\n",
    "      SELECT year\n",
    "      FROM   european_summer_olympics\n",
    "      \n",
    "      INTERSECT\n",
    "      \n",
    "      SELECT year\n",
    "      FROM   years_with_two_chemistry_laureates\n",
    "  )\n",
    "SELECT year, name\n",
    "FROM   chemistry_laureates\n",
    "WHERE  year IN (\n",
    "    SELECT year\n",
    "    FROM   relevant_years\n",
    ")"
   ]
  },
  {
   "cell_type": "markdown",
   "metadata": {},
   "source": [
    "Now, try to replace the subquery with something else:"
   ]
  },
  {
   "cell_type": "code",
   "execution_count": 7,
   "metadata": {},
   "outputs": [
    {
     "name": "stdout",
     "output_type": "stream",
     "text": [
      " * sqlite:///lect04.sqlite\n",
      "Done.\n"
     ]
    },
    {
     "data": {
      "text/html": [
       "<table>\n",
       "    <tr>\n",
       "        <th>year</th>\n",
       "        <th>name</th>\n",
       "    </tr>\n",
       "    <tr>\n",
       "        <td>1912</td>\n",
       "        <td>Paul Sabatier</td>\n",
       "    </tr>\n",
       "    <tr>\n",
       "        <td>1912</td>\n",
       "        <td>Victor Grignard</td>\n",
       "    </tr>\n",
       "    <tr>\n",
       "        <td>1952</td>\n",
       "        <td>Archer John Porter Martin</td>\n",
       "    </tr>\n",
       "    <tr>\n",
       "        <td>1952</td>\n",
       "        <td>Richard Laurence Millington Synge</td>\n",
       "    </tr>\n",
       "    <tr>\n",
       "        <td>2012</td>\n",
       "        <td>Brian K. Kobilka</td>\n",
       "    </tr>\n",
       "    <tr>\n",
       "        <td>2012</td>\n",
       "        <td>Robert J. Lefkowitz</td>\n",
       "    </tr>\n",
       "</table>"
      ],
      "text/plain": [
       "[(1912, u'Paul Sabatier'),\n",
       " (1912, u'Victor Grignard'),\n",
       " (1952, u'Archer John Porter Martin'),\n",
       " (1952, u'Richard Laurence Millington Synge'),\n",
       " (2012, u'Brian K. Kobilka'),\n",
       " (2012, u'Robert J. Lefkowitz')]"
      ]
     },
     "execution_count": 7,
     "metadata": {},
     "output_type": "execute_result"
    }
   ],
   "source": [
    "%%sql\n",
    "WITH\n",
    "  european_summer_olympics(year) AS (\n",
    "      SELECT year\n",
    "      FROM   olympics\n",
    "      WHERE  season = 'summer' AND continent = 'Europe'\n",
    "  ),\n",
    "  chemistry_laureates(name, year) AS (\n",
    "      SELECT name, year\n",
    "      FROM   nobel\n",
    "      WHERE  category = 'chemistry'\n",
    "  ),\n",
    "  years_with_two_chemistry_laureates(year) AS (\n",
    "      SELECT year\n",
    "      FROM   chemistry_laureates\n",
    "      GROUP BY year\n",
    "      HAVING count() = 2\n",
    "  ),\n",
    "  relevant_years(year) AS (\n",
    "      SELECT year\n",
    "      FROM   european_summer_olympics\n",
    "      \n",
    "      INTERSECT\n",
    "      \n",
    "      SELECT year\n",
    "      FROM   years_with_two_chemistry_laureates\n",
    "  )\n",
    "SELECT year, name\n",
    "FROM   chemistry_laureates\n",
    "JOIN relevant_years\n",
    "USING (year)\n"
   ]
  },
  {
   "cell_type": "markdown",
   "metadata": {},
   "source": [
    "## Defining a database in SQL\n",
    "\n",
    "As we saw in the slides, we have a number of different\n",
    "primitive types at our disposal -- exactly which depends on\n",
    "what database we're using. These are some common types:\n",
    "\n",
    "- integers: `INT`, `INTEGER`\n",
    "- real numbers: `REAL`, `DECIMAL(p,s)`\n",
    "- strings: `TEXT`, `CHAR(n)`, `VARCHAR(n)`\n",
    "- date/time: `DATE`, `TIME`, `TIMESTAMP`\n",
    "\n",
    "Some databases also have `BLOB` (binary large object), and\n",
    "other types, but we won't discuss them in this course.\n",
    "\n",
    "To create a table, we use the `CREATE TABLE` command, to\n",
    "create the `student` table we've seen above, we write:"
   ]
  },
  {
   "cell_type": "code",
   "execution_count": 9,
   "metadata": {},
   "outputs": [
    {
     "name": "stdout",
     "output_type": "stream",
     "text": [
      " * sqlite:///lect04.sqlite\n",
      "Done.\n",
      "Done.\n"
     ]
    },
    {
     "data": {
      "text/plain": [
       "[]"
      ]
     },
     "execution_count": 9,
     "metadata": {},
     "output_type": "execute_result"
    }
   ],
   "source": [
    "%%sql\n",
    "DROP TABLE IF EXISTS students;\n",
    "\n",
    "CREATE TABLE students(\n",
    "  s_id     INT,\n",
    "  s_name   TEXT,\n",
    "  gpa      REAL,\n",
    "  size_hs  INT\n",
    ");"
   ]
  },
  {
   "cell_type": "markdown",
   "metadata": {},
   "source": [
    "We want `s_id` to be the primary key of this table, and\n",
    "there are two ways to do that:"
   ]
  },
  {
   "cell_type": "code",
   "execution_count": 10,
   "metadata": {},
   "outputs": [
    {
     "name": "stdout",
     "output_type": "stream",
     "text": [
      " * sqlite:///lect04.sqlite\n",
      "Done.\n",
      "Done.\n"
     ]
    },
    {
     "data": {
      "text/plain": [
       "[]"
      ]
     },
     "execution_count": 10,
     "metadata": {},
     "output_type": "execute_result"
    }
   ],
   "source": [
    "%%sql\n",
    "DROP TABLE IF EXISTS students;\n",
    "\n",
    "CREATE TABLE students(\n",
    "  s_id     INT PRIMARY KEY,\n",
    "  s_name   TEXT,\n",
    "  gpa      REAL,\n",
    "  size_hs  INT\n",
    ");"
   ]
  },
  {
   "cell_type": "markdown",
   "metadata": {},
   "source": [
    "or"
   ]
  },
  {
   "cell_type": "code",
   "execution_count": 11,
   "metadata": {},
   "outputs": [
    {
     "name": "stdout",
     "output_type": "stream",
     "text": [
      " * sqlite:///lect04.sqlite\n",
      "Done.\n",
      "Done.\n"
     ]
    },
    {
     "data": {
      "text/plain": [
       "[]"
      ]
     },
     "execution_count": 11,
     "metadata": {},
     "output_type": "execute_result"
    }
   ],
   "source": [
    "%%sql\n",
    "DROP TABLE IF EXISTS students;\n",
    "\n",
    "CREATE TABLE students(\n",
    "  s_id     INT,\n",
    "  s_name   TEXT,\n",
    "  gpa      REAL,\n",
    "  size_hs  INT,\n",
    "  PRIMARY KEY (s_id)\n",
    ");"
   ]
  },
  {
   "cell_type": "markdown",
   "metadata": {},
   "source": [
    "The latter works if we want more than one column in our key.\n",
    "\n",
    "If we change the type of `s_id` to `INTEGER`, we can make\n",
    "SQLite3 generate unique values of `s_id` for us when we\n",
    "insert new students -- more about that below.\n",
    "\n",
    "\n",
    "Often we make sure there is no table with the same name\n",
    "before we create a table:"
   ]
  },
  {
   "cell_type": "code",
   "execution_count": null,
   "metadata": {},
   "outputs": [],
   "source": [
    "%%sql\n",
    "DROP TABLE IF EXISTS students;\n",
    "\n",
    "CREATE TABLE students ..."
   ]
  },
  {
   "cell_type": "markdown",
   "metadata": {},
   "source": [
    "For our `applications` table, we want a boolean attribute\n",
    "`decision`, but not all databases have a `BOOLEAN` type, and\n",
    "then we often use an `INT` instead (0 = false, 1 = true)."
   ]
  },
  {
   "cell_type": "code",
   "execution_count": null,
   "metadata": {},
   "outputs": [],
   "source": [
    "%%sql\n",
    "DROP TABLE IF EXISTS applications;\n",
    "\n",
    "CREATE TABLE applications(\n",
    "  s_id      INT,\n",
    "  c_name    TEXT,\n",
    "  major     TEXT,\n",
    "  decision  INT     -- 0 = false, 1 = true\n",
    ");"
   ]
  },
  {
   "cell_type": "markdown",
   "metadata": {},
   "source": [
    "In the example we've used before, we can use a character\n",
    "instead:"
   ]
  },
  {
   "cell_type": "code",
   "execution_count": null,
   "metadata": {},
   "outputs": [],
   "source": [
    "%%sql\n",
    "DROP TABLE IF EXISTS applications;\n",
    "\n",
    "CREATE TABLE applications(\n",
    "  s_id      INT,\n",
    "  c_name    TEXT,\n",
    "  major     TEXT,\n",
    "  decision  CHAR(1)    -- 'Y' or 'N'\n",
    ");"
   ]
  },
  {
   "cell_type": "markdown",
   "metadata": {},
   "source": [
    "In this table, we want `s_id` to be a value in the\n",
    "`students` table, and `c_name` to be a value in the\n",
    "`colleges` table, and we make sure they are by marking them\n",
    "as `FOREIGN KEY`:"
   ]
  },
  {
   "cell_type": "code",
   "execution_count": null,
   "metadata": {},
   "outputs": [],
   "source": [
    "%%sql\n",
    "DROP TABLE IF EXISTS applications;\n",
    "\n",
    "CREATE TABLE applications(\n",
    "  s_id        INT,\n",
    "  c_name      TEXT,\n",
    "  major       TEXT,\n",
    "  decision    CHAR(1),    -- 'Y' or 'N'\n",
    "  FOREIGN KEY (s_id) REFERENCES students(s_id),\n",
    "  FOREIGN KEY (c_name) REFERENCES colleges(c_name)\n",
    ");"
   ]
  },
  {
   "cell_type": "markdown",
   "metadata": {},
   "source": [
    "In its current state, `application` is a weak entity set, we\n",
    "can define (`s_id`, `c_name`, `major`) as a key like this:"
   ]
  },
  {
   "cell_type": "code",
   "execution_count": null,
   "metadata": {},
   "outputs": [],
   "source": [
    "%%sql\n",
    "DROP TABLE IF EXISTS applications;\n",
    "\n",
    "CREATE TABLE applications(\n",
    "  s_id        INT,\n",
    "  c_name      TEXT,\n",
    "  major       TEXT,\n",
    "  decision    CHAR(1),    -- 'Y' or 'N'\n",
    "  PRIMARY KEY (s_id, c_name, major),\n",
    "  FOREIGN KEY (s_id) REFERENCES students(s_id),\n",
    "  FOREIGN KEY (c_name) REFERENCES colleges(c_name)\n",
    ");"
   ]
  },
  {
   "cell_type": "markdown",
   "metadata": {},
   "source": [
    "This ensures that we will not have duplicate applications\n",
    "(i.e., one student applies to the same college/major more\n",
    "than one time). Another way of doing that is to use the\n",
    "`UNIQUE` keyword:"
   ]
  },
  {
   "cell_type": "code",
   "execution_count": null,
   "metadata": {},
   "outputs": [],
   "source": [
    "%%sql\n",
    "DROP TABLE IF EXISTS applications;\n",
    "\n",
    "CREATE TABLE applications(\n",
    "  s_id      INT,\n",
    "  c_name    TEXT,\n",
    "  major     TEXT,\n",
    "  decision  CHAR(1),    -- 'Y' or 'N'\n",
    "  UNIQUE (s_id, c_name, major),\n",
    "  FOREIGN KEY (s_id) REFERENCES students(s_id),\n",
    "  FOREIGN KEY (c_name) REFERENCES colleges(c_name)\n",
    ");"
   ]
  },
  {
   "cell_type": "markdown",
   "metadata": {},
   "source": [
    "**Exercise:** _Write SQL statements to create the tables in\n",
    "our database for books and authors (assume that books can be\n",
    "written by several authors)._"
   ]
  },
  {
   "cell_type": "code",
   "execution_count": 13,
   "metadata": {},
   "outputs": [
    {
     "name": "stdout",
     "output_type": "stream",
     "text": [
      " * sqlite:///lect04.sqlite\n",
      "Done.\n",
      "Done.\n"
     ]
    },
    {
     "data": {
      "text/plain": [
       "[]"
      ]
     },
     "execution_count": 13,
     "metadata": {},
     "output_type": "execute_result"
    }
   ],
   "source": [
    "%%sql\n",
    "\n",
    "DROP TABLE IF EXISTS BOOKS;\n",
    "\n",
    "CREATE TABLE books(\n",
    "isbn      INT PRIMARY KEY,\n",
    "author    TEXT\n",
    ");\n"
   ]
  },
  {
   "cell_type": "code",
   "execution_count": null,
   "metadata": {},
   "outputs": [],
   "source": [
    "%%sql\n",
    "\n",
    "INSERT\n",
    "\n"
   ]
  },
  {
   "cell_type": "code",
   "execution_count": null,
   "metadata": {},
   "outputs": [],
   "source": [
    "%%sql\n"
   ]
  },
  {
   "cell_type": "markdown",
   "metadata": {},
   "source": [
    "## Inserting, updating, and removing rows in SQL\n",
    "\n",
    "Let's first set things up:"
   ]
  },
  {
   "cell_type": "code",
   "execution_count": 14,
   "metadata": {},
   "outputs": [
    {
     "name": "stdout",
     "output_type": "stream",
     "text": [
      " * sqlite:///lect04.sqlite\n",
      "Done.\n",
      "Done.\n",
      "Done.\n",
      "Done.\n",
      "Done.\n",
      "Done.\n",
      "0 rows affected.\n",
      "0 rows affected.\n",
      "0 rows affected.\n"
     ]
    },
    {
     "data": {
      "text/plain": [
       "[]"
      ]
     },
     "execution_count": 14,
     "metadata": {},
     "output_type": "execute_result"
    }
   ],
   "source": [
    "%%sql\n",
    "DROP TABLE IF EXISTS students;\n",
    "\n",
    "CREATE TABLE students(\n",
    "  s_id        INTEGER,\n",
    "  s_name      TEXT,\n",
    "  gpa         REAL,\n",
    "  size_hs     INT,\n",
    "  PRIMARY KEY (s_id)\n",
    ");\n",
    "\n",
    "DROP TABLE IF EXISTS colleges;\n",
    "\n",
    "CREATE TABLE colleges(\n",
    "  c_name      TEXT,\n",
    "  state       TEXT,\n",
    "  enrollment  INT,\n",
    "  PRIMARY KEY (c_name)\n",
    ");\n",
    "\n",
    "DROP TABLE IF EXISTS applications;\n",
    "\n",
    "CREATE TABLE applications(\n",
    "  s_id        INTEGER,\n",
    "  c_name      TEXT,\n",
    "  major       TEXT,\n",
    "  decision    CHAR(1) DEFAULT 'N',\n",
    "  PRIMARY KEY (s_id, c_name, major),\n",
    "  FOREIGN KEY (s_id) REFERENCES students(s_id),\n",
    "  FOREIGN KEY (c_name) REFERENCES colleges(c_name)\n",
    ");\n",
    "\n",
    "DELETE FROM students;\n",
    "DELETE FROM colleges;\n",
    "DELETE FROM applications;"
   ]
  },
  {
   "cell_type": "markdown",
   "metadata": {},
   "source": [
    "To insert a row, we can use the `INSERT` statement:"
   ]
  },
  {
   "cell_type": "code",
   "execution_count": null,
   "metadata": {},
   "outputs": [],
   "source": [
    "%%sql\n",
    "INSERT\n",
    "INTO   students(s_id, s_name, gpa, size_hs)\n",
    "VALUES (123, 'Amy', 3.9, 1000),\n",
    "       (234, 'Bob', 3.6, 1500),\n",
    "       (345, 'Craig', 3.5, 500),\n",
    "       (456, 'Doris', 3.9, 1000),\n",
    "       (567, 'Edward', 2.9, 2000),\n",
    "       (678, 'Fay', 3.8, 200),\n",
    "       (789, 'Gary', 3.4, 800),\n",
    "       (987, 'Helen', 3.7, 800),\n",
    "       (876, 'Irene', 3.9, 400),\n",
    "       (765, 'Jay', 2.9, 1500),\n",
    "       (654, 'Amy', 3.9, 1000),\n",
    "       (543, 'Craig', 3.4, 2000);"
   ]
  },
  {
   "cell_type": "markdown",
   "metadata": {},
   "source": [
    "Here we have an invented key (`s_id`) -- and since it is an\n",
    "`INTEGER` value and a `PRIMARY KEY`, SQLite3 can generate\n",
    "values for it automagically, we don't have to provide `s_id`\n",
    "ourselves:"
   ]
  },
  {
   "cell_type": "code",
   "execution_count": null,
   "metadata": {},
   "outputs": [],
   "source": [
    "%%sql\n",
    "INSERT\n",
    "INTO   students(s_name, gpa, size_hs)\n",
    "VALUES ('Amy', 3.9, 1000),\n",
    "       ('Bob', 3.6, 1500),\n",
    "       (...);"
   ]
  },
  {
   "cell_type": "markdown",
   "metadata": {},
   "source": [
    "One potential problem with doing this, is that we will\n",
    "probably get integers from 1 and upwards, and if someone\n",
    "would get hold of our `s_id`s, they could pretty easily\n",
    "figure out how big our database is. It wouldn't be a major\n",
    "problem in this case, but for a web shop it could be very\n",
    "damaging.\n",
    "\n",
    "Instead of generating consecutive integers as invented keys,\n",
    "we can use a _uuid(4)_, which is a 122-bit random value.\n",
    "Some databases have built in support for uuid, but\n",
    "unfortunately SQLite3 hasn't (at least not without an\n",
    "extension).\n",
    "\n",
    "As a primitive replacement for a uuid SQLite3 provides the\n",
    "`randomblob`-function, we can use it like this:"
   ]
  },
  {
   "cell_type": "code",
   "execution_count": null,
   "metadata": {},
   "outputs": [],
   "source": [
    "%%sql\n",
    "DROP TABLE IF EXISTS students;\n",
    "\n",
    "CREATE TABLE students(\n",
    "  s_id        TEXT DEFAULT (lower(hex(randomblob(16)))),\n",
    "  s_name      TEXT,\n",
    "  gpa         REAL,\n",
    "  size_hs     INT,\n",
    "  PRIMARY KEY (s_id)\n",
    ");"
   ]
  },
  {
   "cell_type": "markdown",
   "metadata": {},
   "source": [
    "Inserting into the `applications` table is a bit more\n",
    "involved than inserting into `students`. We use an invented\n",
    "key (`s_id`) to refer to our students in `applications`, so\n",
    "we must find the `s_id` for a student before we insert an\n",
    "application for them.\n",
    "\n",
    "In the case of 'Irene' (who has a unique name), we can do it\n",
    "using a special `INSERT INTO ... SELECT`-statement:"
   ]
  },
  {
   "cell_type": "code",
   "execution_count": null,
   "metadata": {},
   "outputs": [],
   "source": [
    "%%sql\n",
    "INSERT\n",
    "INTO   applications(s_id, c_name, major)\n",
    "SELECT s_id, 'Stanford', 'CS'\n",
    "FROM   students\n",
    "WHERE  s_name = 'Irene';"
   ]
  },
  {
   "cell_type": "markdown",
   "metadata": {},
   "source": [
    "It works, but it's much harder than it would have been if we\n",
    "had a simple natural key like the name (since we have two\n",
    "'Amy's, this is a non-starter, though):"
   ]
  },
  {
   "cell_type": "code",
   "execution_count": null,
   "metadata": {},
   "outputs": [],
   "source": [
    "%%sql\n",
    "INSERT\n",
    "INTO   applications(s_name, c_name, major)\n",
    "VALUES ('Irene', 'Stanford', 'CS'),\n",
    "       ('Irene', 'MIT', 'biology'),\n",
    "       ('Irene', 'MIT', 'marine biology');"
   ]
  },
  {
   "cell_type": "markdown",
   "metadata": {},
   "source": [
    "To remove rows from a table, we can use the `DELETE` clause,\n",
    "to remove all Bobs applications, we write"
   ]
  },
  {
   "cell_type": "code",
   "execution_count": null,
   "metadata": {},
   "outputs": [],
   "source": [
    "%%sql\n",
    "DELETE\n",
    "FROM   applications\n",
    "WHERE  s_id = 234;"
   ]
  },
  {
   "cell_type": "markdown",
   "metadata": {},
   "source": [
    "If we don't have Bob's `s_id`, we can find it using:"
   ]
  },
  {
   "cell_type": "code",
   "execution_count": null,
   "metadata": {},
   "outputs": [],
   "source": [
    "%%sql\n",
    "DELETE\n",
    "FROM   applications\n",
    "WHERE  s_id IN (\n",
    "         SELECT s_id\n",
    "         FROM   students\n",
    "         WHERE  s_name = 'Bob');"
   ]
  },
  {
   "cell_type": "markdown",
   "metadata": {},
   "source": [
    "We must be careful when we use `DELETE`, since the innocent\n",
    "looking"
   ]
  },
  {
   "cell_type": "code",
   "execution_count": null,
   "metadata": {},
   "outputs": [],
   "source": [
    "%%sql\n",
    "DELETE\n",
    "FROM   applications"
   ]
  },
  {
   "cell_type": "markdown",
   "metadata": {},
   "source": [
    "will remove _everything_ from the table.\n",
    "\n",
    "We can update rows in a similar vein, to set Irene's `gpa`\n",
    "to 4.0, we write:"
   ]
  },
  {
   "cell_type": "code",
   "execution_count": null,
   "metadata": {},
   "outputs": [],
   "source": [
    "%%sql\n",
    "UPDATE students\n",
    "SET    gpa = 4.0\n",
    "WHERE  s_name = 'Irene';"
   ]
  },
  {
   "cell_type": "markdown",
   "metadata": {},
   "source": [
    "We can mark that her application to study biology at MIT has\n",
    "been approved (this would approve applications to biology at\n",
    "MIT by all students named 'Irene'):"
   ]
  },
  {
   "cell_type": "code",
   "execution_count": null,
   "metadata": {},
   "outputs": [],
   "source": [
    "%%sql\n",
    "UPDATE applications\n",
    "SET    decision = 'Y'\n",
    "WHERE  c_name = 'MIT' AND\n",
    "       major = 'biology' AND\n",
    "       s_id IN (\n",
    "           SELECT s_id\n",
    "           FROM   students\n",
    "           WHERE  s_name = 'Irene');"
   ]
  }
 ],
 "metadata": {
  "kernelspec": {
   "display_name": "Python 2",
   "language": "python",
   "name": "python2"
  },
  "language_info": {
   "codemirror_mode": {
    "name": "ipython",
    "version": 2
   },
   "file_extension": ".py",
   "mimetype": "text/x-python",
   "name": "python",
   "nbconvert_exporter": "python",
   "pygments_lexer": "ipython2",
   "version": "2.7.17"
  }
 },
 "nbformat": 4,
 "nbformat_minor": 4
}
