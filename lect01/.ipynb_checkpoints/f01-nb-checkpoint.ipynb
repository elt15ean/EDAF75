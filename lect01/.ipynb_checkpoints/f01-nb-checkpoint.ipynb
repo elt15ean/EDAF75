{
 "cells": [
  {
   "cell_type": "markdown",
   "metadata": {},
   "source": [
    "<!-- -*- mode: markdown; coding: utf-8; fill-column: 60; ispell-dictionary: \"english\" -*- -->\n",
    "\n",
    "<meta charset=\"utf-8\"/>\n",
    "<meta name=\"viewport\" content=\"width=device-width,initial-scale=1\"/>\n",
    "<link rel=\"stylesheet\" href=\"../style.css\">\n",
    "\n",
    "\n",
    "# Our first Jupyter notebook\n",
    "\n",
    "This is a [_Jupyter notebook_](https://jupyter.org/), it\n",
    "contains _cells_ in which we can evaluate program code.\n",
    "\n",
    "There is built in support for _Julia_, _Python_, and _R_\n",
    "(hence _Ju-Pyt-R_), here's some Python code:"
   ]
  },
  {
   "cell_type": "code",
   "execution_count": 2,
   "metadata": {},
   "outputs": [
    {
     "name": "stdout",
     "output_type": "stream",
     "text": [
      "What's your name: Edvin\n"
     ]
    },
    {
     "ename": "NameError",
     "evalue": "name 'Edvin' is not defined",
     "output_type": "error",
     "traceback": [
      "\u001b[0;31m---------------------------------------------------------------------------\u001b[0m",
      "\u001b[0;31mNameError\u001b[0m                                 Traceback (most recent call last)",
      "\u001b[0;32m<ipython-input-2-5fb8c00bfb2f>\u001b[0m in \u001b[0;36m<module>\u001b[0;34m()\u001b[0m\n\u001b[1;32m      6\u001b[0m     \u001b[0mhello\u001b[0m\u001b[0;34m(\u001b[0m\u001b[0mname\u001b[0m\u001b[0;34m)\u001b[0m\u001b[0;34m\u001b[0m\u001b[0m\n\u001b[1;32m      7\u001b[0m \u001b[0;34m\u001b[0m\u001b[0m\n\u001b[0;32m----> 8\u001b[0;31m \u001b[0mmain\u001b[0m\u001b[0;34m(\u001b[0m\u001b[0;34m)\u001b[0m\u001b[0;34m\u001b[0m\u001b[0m\n\u001b[0m",
      "\u001b[0;32m<ipython-input-2-5fb8c00bfb2f>\u001b[0m in \u001b[0;36mmain\u001b[0;34m()\u001b[0m\n\u001b[1;32m      3\u001b[0m \u001b[0;34m\u001b[0m\u001b[0m\n\u001b[1;32m      4\u001b[0m \u001b[0;32mdef\u001b[0m \u001b[0mmain\u001b[0m\u001b[0;34m(\u001b[0m\u001b[0;34m)\u001b[0m\u001b[0;34m:\u001b[0m\u001b[0;34m\u001b[0m\u001b[0m\n\u001b[0;32m----> 5\u001b[0;31m     \u001b[0mname\u001b[0m \u001b[0;34m=\u001b[0m \u001b[0minput\u001b[0m\u001b[0;34m(\u001b[0m\u001b[0;34m\"What's your name: \"\u001b[0m\u001b[0;34m)\u001b[0m\u001b[0;34m\u001b[0m\u001b[0m\n\u001b[0m\u001b[1;32m      6\u001b[0m     \u001b[0mhello\u001b[0m\u001b[0;34m(\u001b[0m\u001b[0mname\u001b[0m\u001b[0;34m)\u001b[0m\u001b[0;34m\u001b[0m\u001b[0m\n\u001b[1;32m      7\u001b[0m \u001b[0;34m\u001b[0m\u001b[0m\n",
      "\u001b[0;32m/home/edvin/.local/lib/python2.7/site-packages/ipykernel/ipkernel.pyc\u001b[0m in \u001b[0;36m<lambda>\u001b[0;34m(prompt)\u001b[0m\n\u001b[1;32m    174\u001b[0m             \u001b[0mself\u001b[0m\u001b[0;34m.\u001b[0m\u001b[0m_sys_eval_input\u001b[0m \u001b[0;34m=\u001b[0m \u001b[0mbuiltin_mod\u001b[0m\u001b[0;34m.\u001b[0m\u001b[0minput\u001b[0m\u001b[0;34m\u001b[0m\u001b[0m\n\u001b[1;32m    175\u001b[0m             \u001b[0mbuiltin_mod\u001b[0m\u001b[0;34m.\u001b[0m\u001b[0mraw_input\u001b[0m \u001b[0;34m=\u001b[0m \u001b[0mself\u001b[0m\u001b[0;34m.\u001b[0m\u001b[0mraw_input\u001b[0m\u001b[0;34m\u001b[0m\u001b[0m\n\u001b[0;32m--> 176\u001b[0;31m             \u001b[0mbuiltin_mod\u001b[0m\u001b[0;34m.\u001b[0m\u001b[0minput\u001b[0m \u001b[0;34m=\u001b[0m \u001b[0;32mlambda\u001b[0m \u001b[0mprompt\u001b[0m\u001b[0;34m=\u001b[0m\u001b[0;34m''\u001b[0m\u001b[0;34m:\u001b[0m \u001b[0meval\u001b[0m\u001b[0;34m(\u001b[0m\u001b[0mself\u001b[0m\u001b[0;34m.\u001b[0m\u001b[0mraw_input\u001b[0m\u001b[0;34m(\u001b[0m\u001b[0mprompt\u001b[0m\u001b[0;34m)\u001b[0m\u001b[0;34m)\u001b[0m\u001b[0;34m\u001b[0m\u001b[0m\n\u001b[0m\u001b[1;32m    177\u001b[0m         \u001b[0mself\u001b[0m\u001b[0;34m.\u001b[0m\u001b[0m_save_getpass\u001b[0m \u001b[0;34m=\u001b[0m \u001b[0mgetpass\u001b[0m\u001b[0;34m.\u001b[0m\u001b[0mgetpass\u001b[0m\u001b[0;34m\u001b[0m\u001b[0m\n\u001b[1;32m    178\u001b[0m         \u001b[0mgetpass\u001b[0m\u001b[0;34m.\u001b[0m\u001b[0mgetpass\u001b[0m \u001b[0;34m=\u001b[0m \u001b[0mself\u001b[0m\u001b[0;34m.\u001b[0m\u001b[0mgetpass\u001b[0m\u001b[0;34m\u001b[0m\u001b[0m\n",
      "\u001b[0;32m/home/edvin/.local/lib/python2.7/site-packages/ipykernel/ipkernel.pyc\u001b[0m in \u001b[0;36m<module>\u001b[0;34m()\u001b[0m\n",
      "\u001b[0;31mNameError\u001b[0m: name 'Edvin' is not defined"
     ]
    }
   ],
   "source": [
    "def hello(name):\n",
    "    printf(\"hello, {name}!\")\n",
    "\n",
    "def main():\n",
    "    name = input(\"What's your name: \")\n",
    "    hello(name)\n",
    "    \n",
    "main()"
   ]
  },
  {
   "cell_type": "markdown",
   "metadata": {},
   "source": [
    "You can run the code snippet above by clicking somewhere in\n",
    "the box, and press Shift-Enter.\n",
    "\n",
    "We're primarily going to run SQL code (see below) in our\n",
    "notebooks, but I'll also show you some Python code later on\n",
    "in the course.\n",
    "\n",
    "You don't have to learn Python to take this course, there\n",
    "will always be the option to use Java instead, but I\n",
    "encourage you to have a look at Python, since it is growing\n",
    "in popularity very quickly, and has become the 'lingua\n",
    "franca' of data science (together with R).\n",
    "\n",
    "\n",
    "## Introduction to relational databases\n",
    "\n",
    "A [_Relational\n",
    "Database_](https://en.wikipedia.org/wiki/Relational_database)\n",
    "stores its data in [ _tables_\n",
    "](https://en.wikipedia.org/wiki/Table_(database), where each\n",
    "table looks like a simple spreadsheet:\n",
    "\n",
    "<style type=\"text/css\">\n",
    ".tg  {border-collapse:collapse;border-spacing:0;border-color:#999;margin:0px auto;}\n",
    ".tg td{font-family:Arial, sans-serif;font-size:14px;padding:10px 5px;border-style:solid;border-width:1px;overflow:hidden;word-break:normal;border-color:#999;color:#444;background-color:#F7FDFA;}\n",
    ".tg th{font-family:Arial, sans-serif;font-size:14px;font-weight:normal;padding:10px 5px;border-style:solid;border-width:1px;overflow:hidden;word-break:normal;border-color:#999;color:#fff;background-color:#26ADE4;}\n",
    ".tg .tg-e3zv{font-weight:bold}\n",
    ".tg .tg-9hbo{font-weight:bold;vertical-align:top}\n",
    ".tg .tg-yw4l{vertical-align:top}\n",
    "</style>\n",
    "<table class=\"tg\">\n",
    "  <tr>\n",
    "    <th class=\"tg-e3zv\">year</th>\n",
    "    <th class=\"tg-9hbo\">category</th>\n",
    "    <th class=\"tg-9hbo\">name</th>\n",
    "    <th class=\"tg-9hbo\">motivation</th>\n",
    "  </tr>\n",
    "  <tr>\n",
    "    <td class=\"tg-yw4l\">2011</td>\n",
    "    <td class=\"tg-yw4l\">literature</td>\n",
    "    <td class=\"tg-yw4l\">Tomas Tranströmer</td>\n",
    "    <td class=\"tg-yw4l\">...</td>\n",
    "  </tr>\n",
    "  <tr>\n",
    "    <td class=\"tg-yw4l\">2011</td>\n",
    "    <td class=\"tg-yw4l\">physics</td>\n",
    "    <td class=\"tg-yw4l\">Adam Riess</td>\n",
    "    <td class=\"tg-yw4l\">...</td>\n",
    "  </tr>\n",
    "  <tr>\n",
    "    <td class=\"tg-yw4l\">2011</td>\n",
    "    <td class=\"tg-yw4l\">chemistry</td>\n",
    "    <td class=\"tg-yw4l\">Dan Shechtman</td>\n",
    "    <td class=\"tg-yw4l\">...</td>\n",
    "  </tr>\n",
    "  <tr>\n",
    "    <td class=\"tg-yw4l\">2011</td>\n",
    "    <td class=\"tg-yw4l\">medicine</td>\n",
    "    <td class=\"tg-yw4l\">Ralph Steinman</td>\n",
    "    <td class=\"tg-yw4l\">...</td>\n",
    "  </tr>\n",
    "</table>\n",
    "\n",
    "A _row_ represents an item, and a _column_ represents a\n",
    "property of the items.\n",
    "\n",
    "In the example above, each row describes a Nobel laurate,\n",
    "and for each laureate, we have columns showing what year the\n",
    "prize was awarded, in what category, the name of the\n",
    "laureate, and the motivation (not shown here).\n",
    "\n",
    "The basic idea of relational databases is that all 'cells'\n",
    "in the table should be simple values (no lists or objects!),\n",
    "and that we can use simple operations from [_relational\n",
    "algebra_](https://en.wikipedia.org/wiki/Relational_algebra)\n",
    "to get information from it. We do it using a programming\n",
    "language which is highly specialized for extracting\n",
    "information, it is called\n",
    "[SQL](https://en.wikipedia.org/wiki/SQL), which is short\n",
    "hand for _Structured Query Language_. SQL can be pronounced\n",
    "as either \"S-Q-L\", or \"sequel\".\n",
    "\n",
    "SQL is divided into several sub-languages:\n",
    "\n",
    " + _DDL_ (_Data Definition Language_): constructs used to\n",
    "   define the tables of a database,\n",
    "\n",
    " + _DML_ (_Data Manipulation Language_): statements used to\n",
    "   query and manipulate data in a database,\n",
    "   \n",
    " + _TCL_ (_Transaction Control Language_): commands used to\n",
    "   handle transactions (we will return to what a transaction\n",
    "   is later in the course), and\n",
    "   \n",
    " + _DCL_ (_Data Control Language_): commands used to\n",
    "   controll access to our data (we'll will not deal with\n",
    "   them in this course).\n",
    "\n",
    "This week we'll focus on DML, i.e., ways to query our\n",
    "databases -- next week we'll look at how to design and\n",
    "define our databases.\n",
    "\n",
    "Today, we'll discuss the following operations:\n",
    "\n",
    " + _selection_: choosing some of the rows of a table\n",
    "\n",
    " + _projection_: choosing some of the columns of a table\n",
    "\n",
    " + _union_ and _intersection_: combining the rows of two\n",
    "   tables into one table (the tables we combine must be\n",
    "   compatible, which means that they must have the same\n",
    "   columns)\n",
    "   \n",
    "Next time we'll study some other very important operations,\n",
    "which allows us to join several tables in interesting ways.\n",
    "\n",
    "## An actual DBMS\n",
    "\n",
    "There are many different Relational Database Management\n",
    "Systems\n",
    "([RDMBS:es](https://en.wikipedia.org/wiki/Relational_database))\n",
    "which implements SQL, some of the most prominent are:\n",
    "\n",
    " *  [PostgreSQL](https://en.wikipedia.org/wiki/PostgreSQL)\n",
    " *  [Oracle](https://en.wikipedia.org/wiki/Oracle_Database)\n",
    " *  [MariaDB](https://en.wikipedia.org/wiki/MariaDB)\n",
    " *  [MySQL](https://en.wikipedia.org/wiki/MySQL)\n",
    " *  [Microsoft SQL Server](https://en.wikipedia.org/wiki/Microsoft_SQL_Server)\n",
    " *  [IBM DD2](https://en.wikipedia.org/wiki/IBM_Db2_Family)\n",
    " *  [SQLite](https://en.wikipedia.org/wiki/SQLite)\n",
    "\n",
    "In this course we'll use\n",
    "[SQLite](https://en.wikipedia.org/wiki/SQLite), which is a\n",
    "lightweight but still very powerful system -- it is _by far_\n",
    "the most used DBMS, and it's probably already running on all\n",
    "of your phones and computers (just as an example, if you use\n",
    "the Chrome for browsing, your browsing history is typically\n",
    "saved in a SQL-database file\n",
    "`.config/google-chrome/Default/History `).\n",
    "\n",
    "The `SQLite` file `lect01.sqlite` contains all Nobel\n",
    "Laureates in Physicis, Chemistry, Medicine, and Literature\n",
    "since 1901 (the Economics prize isn't really a Nobel prize,\n",
    "its an award given since 1969 by Riksbanken in memory of\n",
    "Alfred Nobel, and the Peace Prize is awarded by Norwegians).\n",
    "At the bottom of this page there's a description of how I\n",
    "created the database.\n",
    "\n",
    "To be able to write SQL queries in this notebook, we first\n",
    "have to run:"
   ]
  },
  {
   "cell_type": "code",
   "execution_count": null,
   "metadata": {},
   "outputs": [],
   "source": [
    "%load_ext sql"
   ]
  },
  {
   "cell_type": "markdown",
   "metadata": {},
   "source": [
    "And to work with our database, we import it with:"
   ]
  },
  {
   "cell_type": "code",
   "execution_count": null,
   "metadata": {},
   "outputs": [],
   "source": [
    "%sql sqlite:///lect01.sqlite"
   ]
  },
  {
   "cell_type": "markdown",
   "metadata": {},
   "source": [
    "Now we're good to go, we just have to prefix our SQL queries\n",
    "with `%sql` (one line of SQL) or `%%sql` (several lines of\n",
    "SQL, this is the form we will use in most cases).\n",
    "\n",
    "## Some queries\n",
    "\n",
    "A simple _SQL query_ can be written as:"
   ]
  },
  {
   "cell_type": "markdown",
   "metadata": {},
   "source": [
    "~~~{.text}\n",
    "SELECT <what we're looking for>\n",
    "FROM   <what table we're looking in>\n",
    "~~~\n"
   ]
  },
  {
   "cell_type": "markdown",
   "metadata": {},
   "source": [
    "This selects all rows of a given table. If we're only\n",
    "interesting in some of the rows, and we normally are, we\n",
    "write:"
   ]
  },
  {
   "cell_type": "markdown",
   "metadata": {},
   "source": [
    "~~~{.text}\n",
    "SELECT <what we're looking for>\n",
    "FROM   <what table we're looking in>\n",
    "WHERE  <what items we're interested in>\n",
    "~~~\n"
   ]
  },
  {
   "cell_type": "markdown",
   "metadata": {},
   "source": [
    "The latter form is so common that it's got its own acronym:\n",
    "\"SFW\" (short for `SELECT`-`FROM`-`WHERE`).\n",
    "\n",
    "Our Nobel Database contains the following information for\n",
    "each laureate:\n",
    "\n",
    " *  the _year_ the prize was awarded\n",
    " *  the _category_ ('physics', 'chemistry', 'medicine',\n",
    "    'literature')\n",
    " *  the _name_\n",
    " *  the _motivation_\n",
    "\n",
    "Let's use the first form above to see all Nobel prizes which\n",
    "has been handed out:"
   ]
  },
  {
   "cell_type": "code",
   "execution_count": null,
   "metadata": {},
   "outputs": [],
   "source": [
    "%%sql\n"
   ]
  },
  {
   "cell_type": "markdown",
   "metadata": {},
   "source": [
    "This is too much to look through, so let's first limit the\n",
    "output to 10 rows:"
   ]
  },
  {
   "cell_type": "code",
   "execution_count": null,
   "metadata": {},
   "outputs": [],
   "source": [
    "%%sql\n"
   ]
  },
  {
   "cell_type": "markdown",
   "metadata": {},
   "source": [
    "We can also _select_ only those prizes awarded in 2013."
   ]
  },
  {
   "cell_type": "code",
   "execution_count": null,
   "metadata": {},
   "outputs": [],
   "source": [
    "%%sql\n"
   ]
  },
  {
   "cell_type": "markdown",
   "metadata": {},
   "source": [
    "Observe that the query returns a new table, we'll soon see\n",
    "that we can use the returned table in other queries.\n",
    "\n",
    "**Q:** _What year did Einstein get his award, and why?_\n",
    "\n",
    "This requires both a _selection_ (the row with Einstein's\n",
    "award) and a _projection_ (only the year and motivation):"
   ]
  },
  {
   "cell_type": "code",
   "execution_count": null,
   "metadata": {},
   "outputs": [],
   "source": [
    "%%sql\n"
   ]
  },
  {
   "cell_type": "markdown",
   "metadata": {},
   "source": [
    "Observe that the selection (what rows we're interested in)\n",
    "is given in the `WHERE` clause, whereas the projection (what\n",
    "columns we're interested in) is defined in the `SELECT`\n",
    "clause (the naming is somewhat counter-intuitive).\n",
    "\n",
    "The names of the columns in the returned table is shown\n",
    "above the actual output, if we want to rename any of the\n",
    "columns in the returned table, we can use an _alias_:"
   ]
  },
  {
   "cell_type": "code",
   "execution_count": null,
   "metadata": {},
   "outputs": [],
   "source": [
    "%%sql\n"
   ]
  },
  {
   "cell_type": "markdown",
   "metadata": {},
   "source": [
    "**Q:** _Who was awarded the physics prize in 1922?_"
   ]
  },
  {
   "cell_type": "code",
   "execution_count": null,
   "metadata": {},
   "outputs": [],
   "source": [
    "%%sql\n"
   ]
  },
  {
   "cell_type": "markdown",
   "metadata": {},
   "source": [
    "**Q:** _Who were awarded the physics prize in 1922 and\n",
    "1923?_ (Solve this problem in at least three different\n",
    "ways)."
   ]
  },
  {
   "cell_type": "code",
   "execution_count": null,
   "metadata": {},
   "outputs": [],
   "source": [
    "%%sql\n"
   ]
  },
  {
   "cell_type": "code",
   "execution_count": null,
   "metadata": {},
   "outputs": [],
   "source": [
    "%%sql\n"
   ]
  },
  {
   "cell_type": "code",
   "execution_count": null,
   "metadata": {},
   "outputs": [],
   "source": [
    "%%sql\n"
   ]
  },
  {
   "cell_type": "markdown",
   "metadata": {},
   "source": [
    "There are often several ways of doing things in SQL, and one\n",
    "of the main points of using SQL is that the RDBMS tries to\n",
    "optimize the operations it needs to fetch our data (there is\n",
    "some seriously clever code running behind the scenes).\n",
    "\n",
    "**Q:** _Who has been awarded the prize in medicine since\n",
    "2010, ordered by name?_"
   ]
  },
  {
   "cell_type": "code",
   "execution_count": null,
   "metadata": {},
   "outputs": [],
   "source": [
    "%%sql\n"
   ]
  },
  {
   "cell_type": "markdown",
   "metadata": {},
   "source": [
    "**Q:** _What year did Winston Churchill win a prize, and in\n",
    "what category?_"
   ]
  },
  {
   "cell_type": "code",
   "execution_count": null,
   "metadata": {},
   "outputs": [],
   "source": [
    "%%sql\n"
   ]
  },
  {
   "cell_type": "markdown",
   "metadata": {},
   "source": [
    "Using `LIKE` in our conditions, we get some rudimentary form\n",
    "of wildcard matching (some SQL databases allow more advanced\n",
    "regular expressions, but that's beyond the scope of this\n",
    "course).\n",
    "\n",
    "\n",
    "If we want to categorize our output, we can use a `CASE`\n",
    "statement, it has the general form:"
   ]
  },
  {
   "cell_type": "markdown",
   "metadata": {},
   "source": [
    "~~~sql\n",
    "SELECT ..., \n",
    "       CASE \n",
    "           WHEN ... THEN ...\n",
    "           WHEN ... THEN ...\n",
    "           ELSE ...\n",
    "       END AS <name>\n",
    "FROM ...\n",
    "~~~\n"
   ]
  },
  {
   "cell_type": "markdown",
   "metadata": {},
   "source": [
    "**Q:** _Show all laureates in physics with a name beginning\n",
    "with 'P', if they won the prize before 1970 they're ancient,\n",
    "if the won the prize between 1970 and 2000 they're veterans,\n",
    "otherwise they're newbies._"
   ]
  },
  {
   "cell_type": "code",
   "execution_count": null,
   "metadata": {},
   "outputs": [],
   "source": [
    "%%sql\n"
   ]
  },
  {
   "cell_type": "markdown",
   "metadata": {},
   "source": [
    "### `SELECT` and `SELECT DISTINCT`\n",
    "\n",
    "**Q:** _What are the different categories of Nobel prizes?_"
   ]
  },
  {
   "cell_type": "code",
   "execution_count": null,
   "metadata": {},
   "outputs": [],
   "source": [
    "%%sql\n"
   ]
  },
  {
   "cell_type": "markdown",
   "metadata": {},
   "source": [
    "Using `SELECT DISTINCT` we only get unique rows in our\n",
    "output table.\n",
    "\n",
    "\n",
    "### Using functions and aggregate functions\n",
    "\n",
    "There are some functions we can apply to our values, each\n",
    "RDBMS supplies their own set of functions. For example,\n",
    "SQLite has a `substr` function:"
   ]
  },
  {
   "cell_type": "markdown",
   "metadata": {},
   "source": [
    "~~~sql\n",
    "substr(value, first_pos, [length])\n",
    "~~~\n"
   ]
  },
  {
   "cell_type": "markdown",
   "metadata": {},
   "source": [
    "**Q:** _What was the initial letters of the laureates in\n",
    "year 2000?_"
   ]
  },
  {
   "cell_type": "code",
   "execution_count": null,
   "metadata": {},
   "outputs": [],
   "source": [
    "%%sql\n"
   ]
  },
  {
   "cell_type": "markdown",
   "metadata": {},
   "source": [
    "An _aggregate function_ can be applied to all rows in a\n",
    "table, and then returns only one value.\n",
    "\n",
    "The standard aggregate functions are:\n",
    "\n",
    " + `AVG`: calculates the average for a given column\n",
    " + `COUNT`: counts the rows in a given table\n",
    " + `MIN`: gets the minimum value of a given column\n",
    " + `MAX`: gets the maximum value of a given column\n",
    " + `SUM`: calculates the sum of a given column\n",
    "\n",
    "\n",
    "**Q:** _How many of the laureates has had a first name\n",
    "beginning with an 'A'?_"
   ]
  },
  {
   "cell_type": "code",
   "execution_count": null,
   "metadata": {},
   "outputs": [],
   "source": [
    "%%sql\n"
   ]
  },
  {
   "cell_type": "markdown",
   "metadata": {},
   "source": [
    "**Q:** _What year was the first Nobel prize awarded?_"
   ]
  },
  {
   "cell_type": "code",
   "execution_count": null,
   "metadata": {},
   "outputs": [],
   "source": [
    "%%sql\n"
   ]
  },
  {
   "cell_type": "markdown",
   "metadata": {},
   "source": [
    "**Q:** _How many Nobel prizes for chemistry has been\n",
    "awarded?_"
   ]
  },
  {
   "cell_type": "code",
   "execution_count": null,
   "metadata": {},
   "outputs": [],
   "source": [
    "%%sql\n"
   ]
  },
  {
   "cell_type": "markdown",
   "metadata": {},
   "source": [
    "### Groups and aggregates\n",
    "\n",
    "Using `GROUP BY` we can handle rows in groups -- to\n",
    "understand how it works, lets first look at the following\n",
    "query:"
   ]
  },
  {
   "cell_type": "code",
   "execution_count": null,
   "metadata": {},
   "outputs": [],
   "source": [
    "%%sql\n",
    "SELECT    year, category, name\n",
    "FROM      nobel\n",
    "WHERE     year = 2013\n",
    "ORDER BY  category"
   ]
  },
  {
   "cell_type": "markdown",
   "metadata": {},
   "source": [
    "Here the rows of each category will end up adjacent to each\n",
    "other, and using `GROUP BY` we insert an invisible divider\n",
    "between the groups, and perform any aggregate function on\n",
    "the whole 'group':"
   ]
  },
  {
   "cell_type": "code",
   "execution_count": null,
   "metadata": {},
   "outputs": [],
   "source": [
    "%%sql\n",
    "SELECT    category, count()\n",
    "FROM      nobel\n",
    "WHERE     year = 2013\n",
    "GROUP BY  category"
   ]
  },
  {
   "cell_type": "markdown",
   "metadata": {},
   "source": [
    "So, if we apply an aggregate function, such as `count()`, in\n",
    "a table which we have grouped, it will be applied to each\n",
    "group, not to the whole table. Instead of getting one\n",
    "`count()` for the whole table (it would be a single value),\n",
    "we get one `count()` for each group (as above).\n",
    "\n",
    "If we add `name` in the first line, we get a somewhat\n",
    "arbitrary result:"
   ]
  },
  {
   "cell_type": "code",
   "execution_count": null,
   "metadata": {},
   "outputs": [],
   "source": [
    "%%sql\n",
    "SELECT    category, count(), name\n",
    "FROM      nobel\n",
    "WHERE     year = 2013\n",
    "GROUP BY  category"
   ]
  },
  {
   "cell_type": "markdown",
   "metadata": {},
   "source": [
    "The category and count is correct, but only one name is\n",
    "shown for each category.\n",
    "\n",
    "The 'problem' is that we only get one row per group in the\n",
    "output, and that there may be several laureates in each\n",
    "group -- our query will return one of them in a seemingly\n",
    "haphazard manner. We can concatenate all names in the group\n",
    "using the `group_concat`-function:"
   ]
  },
  {
   "cell_type": "code",
   "execution_count": null,
   "metadata": {},
   "outputs": [],
   "source": [
    "%%sql\n",
    "SELECT    category, count(), group_concat(name)\n",
    "FROM      nobel\n",
    "WHERE     year = 2013\n",
    "GROUP BY  category"
   ]
  },
  {
   "cell_type": "markdown",
   "metadata": {},
   "source": [
    "There is no problem displaying `category` in the\n",
    "`SELECT`-statement above, we get a value which we know is\n",
    "the same for each row in the group (by definition, since\n",
    "that's what we grouped by).\n",
    "\n",
    "\n",
    "If we're only interested in those categories with less than\n",
    "three laureates, we use `HAVING` to select only _groups_\n",
    "with a given property:"
   ]
  },
  {
   "cell_type": "code",
   "execution_count": null,
   "metadata": {},
   "outputs": [],
   "source": [
    "%%sql\n",
    "SELECT    category, count(), group_concat(name)\n",
    "FROM      nobel\n",
    "WHERE     year = 2013\n",
    "GROUP BY  category\n",
    "HAVING    count() < 3"
   ]
  },
  {
   "cell_type": "markdown",
   "metadata": {},
   "source": [
    "This corresponds to a `WHERE` statement, but it applies to\n",
    "groups, not to individual rows (as `WHERE` does). In the\n",
    "query above we first have a `WHERE` statement to select some\n",
    "rows from the whole table, and then group the resulting\n",
    "selection.\n",
    "\n",
    "\n",
    "\n",
    "**Q:** _How many laureates are there in each category? Which\n",
    "category has seen the most laureates?_"
   ]
  },
  {
   "cell_type": "code",
   "execution_count": null,
   "metadata": {},
   "outputs": [],
   "source": [
    "%%sql\n"
   ]
  },
  {
   "cell_type": "markdown",
   "metadata": {},
   "source": [
    "**Q:** _How many olympic games has each continent hosted?_"
   ]
  },
  {
   "cell_type": "code",
   "execution_count": null,
   "metadata": {},
   "outputs": [],
   "source": [
    "%%sql\n"
   ]
  },
  {
   "cell_type": "markdown",
   "metadata": {},
   "source": [
    "**Q:** _When was the first olympic games in each continent?_"
   ]
  },
  {
   "cell_type": "code",
   "execution_count": null,
   "metadata": {},
   "outputs": [],
   "source": [
    "%%sql\n"
   ]
  },
  {
   "cell_type": "markdown",
   "metadata": {},
   "source": [
    "**Q:** _Which countries has hosted the summer olympics more\n",
    "than once?_"
   ]
  },
  {
   "cell_type": "code",
   "execution_count": null,
   "metadata": {},
   "outputs": [],
   "source": [
    "%%sql\n"
   ]
  },
  {
   "cell_type": "markdown",
   "metadata": {},
   "source": [
    "**Q:** _List the continents in descending order by the\n",
    "number of times they've hosted the summer olympics_"
   ]
  },
  {
   "cell_type": "code",
   "execution_count": null,
   "metadata": {},
   "outputs": [],
   "source": [
    "%%sql\n"
   ]
  },
  {
   "cell_type": "markdown",
   "metadata": {},
   "source": [
    "**Q:** _Show an 'histogram' over the the initial letter of\n",
    "the names of all Nobel laureates_"
   ]
  },
  {
   "cell_type": "code",
   "execution_count": null,
   "metadata": {},
   "outputs": [],
   "source": [
    "%%sql\n"
   ]
  },
  {
   "cell_type": "markdown",
   "metadata": {},
   "source": [
    "We can group by more than one column, we now insert\n",
    "invisible borders between all combinations of the given\n",
    "column values:\n",
    "\n",
    "\n",
    "**Q:** _Show an 'histogram' over the the initial letter of\n",
    "the names of all Nobel laureates, **for each category**_"
   ]
  },
  {
   "cell_type": "code",
   "execution_count": null,
   "metadata": {},
   "outputs": [],
   "source": [
    "%%sql\n"
   ]
  },
  {
   "cell_type": "markdown",
   "metadata": {},
   "source": [
    "**Q:** _Has anyone won more than one Nobel prize?_"
   ]
  },
  {
   "cell_type": "code",
   "execution_count": null,
   "metadata": {},
   "outputs": [],
   "source": [
    "%%sql\n"
   ]
  },
  {
   "cell_type": "markdown",
   "metadata": {},
   "source": [
    "**Q:** _Has anyone won more than one Nobel prize in the same\n",
    "category?_"
   ]
  },
  {
   "cell_type": "code",
   "execution_count": null,
   "metadata": {},
   "outputs": [],
   "source": [
    "%%sql\n"
   ]
  },
  {
   "cell_type": "markdown",
   "metadata": {},
   "source": [
    "### Subqueries\n",
    "\n",
    "As we noted above, the result of a `SELECT`-statement is\n",
    "itself a table, and we can use such a table inside other\n",
    "statements.\n",
    "\n",
    "One useful pattern is:"
   ]
  },
  {
   "cell_type": "markdown",
   "metadata": {},
   "source": [
    "~~~sql\n",
    "SELECT ...\n",
    "FROM   ...\n",
    "WHERE  ... IN\n",
    "       (SELECT ...\n",
    "        FROM ...\n",
    "        WHERE ...)\n",
    "~~~\n"
   ]
  },
  {
   "cell_type": "markdown",
   "metadata": {},
   "source": [
    "The second query is called a _subquery_.\n",
    "\n",
    "\n",
    "**Q:** _Has the Nobel prize for literature ever been split?_"
   ]
  },
  {
   "cell_type": "code",
   "execution_count": null,
   "metadata": {},
   "outputs": [],
   "source": [
    "%%sql\n"
   ]
  },
  {
   "cell_type": "markdown",
   "metadata": {},
   "source": [
    "**Q:** _Which literature laureates split their prizes?_"
   ]
  },
  {
   "cell_type": "code",
   "execution_count": null,
   "metadata": {},
   "outputs": [],
   "source": [
    "%%sql\n"
   ]
  },
  {
   "cell_type": "markdown",
   "metadata": {},
   "source": [
    "There is another form of subquery which we'll return to\n",
    "later.\n",
    "\n",
    "**Q:** _Who has won the literature prize in a year when at\n",
    "least one chemistry laureate had a name beginning with 'L'?_"
   ]
  },
  {
   "cell_type": "code",
   "execution_count": null,
   "metadata": {},
   "outputs": [],
   "source": [
    "%%sql\n"
   ]
  },
  {
   "cell_type": "markdown",
   "metadata": {},
   "source": [
    "**Q:** _Who has shared the chemistry prize with exactly one\n",
    "other laureate in years when the summer olympics were held\n",
    "in Europe?_"
   ]
  },
  {
   "cell_type": "code",
   "execution_count": null,
   "metadata": {},
   "outputs": [],
   "source": [
    "%%sql\n"
   ]
  },
  {
   "cell_type": "markdown",
   "metadata": {},
   "source": [
    "Another form of subquery is:"
   ]
  },
  {
   "cell_type": "markdown",
   "metadata": {},
   "source": [
    "~~~sql\n",
    "SELECT ...,\n",
    "       (SELECT ...\n",
    "        FROM ...\n",
    "        WHERE ...)\n",
    "FROM   ...\n",
    "~~~\n"
   ]
  },
  {
   "cell_type": "markdown",
   "metadata": {},
   "source": [
    "This works if the subquery produces one result, such as when\n",
    "we use an aggregate function. As an example, solve the\n",
    "following problem:\n",
    "\n",
    "**Q:** _Output the name of all laureates, and the number of\n",
    "awards they have -- order first by number of awards, then by\n",
    "name, and show only the first 20._"
   ]
  },
  {
   "cell_type": "code",
   "execution_count": null,
   "metadata": {},
   "outputs": [],
   "source": [
    "%%sql\n"
   ]
  },
  {
   "cell_type": "markdown",
   "metadata": {},
   "source": [
    "~~~sql\n",
    "%%sql\n",
    "\n",
    "~~~\n"
   ]
  },
  {
   "cell_type": "markdown",
   "metadata": {},
   "source": [
    "This is called a _correlated subquery_ (since we refer to\n",
    "the enclosing query inside it). We use an alias to\n",
    "distinguish between the nobel table in the outer query and\n",
    "the nobel table in the subquery (it's the same table, but we\n",
    "'iterate' through it separately).\n",
    "\n",
    "For the next lecture: is there any redundance in the table\n",
    "with the olympic games?\n",
    "\n",
    "\n",
    "\n",
    "## Generating the database\n",
    "\n",
    "This is a description of how I created the database, it's\n",
    "just for the curious, and not part of the course.\n",
    "\n",
    "The data is copied from\n",
    "[`Nobelprize.org`](https://www.nobelprize.org/nobel_prizes/lists/all/create_list.html),\n",
    "and then pasted into a text file `nobel.csv` (`.csv` for\n",
    "comma-separated-values). I used `Emacs` to tidy things up\n",
    "(just some simple macros), and then I imported the text file\n",
    "into `sqlite` using the following script (I put it in the\n",
    "text file `nobel.sql`):"
   ]
  },
  {
   "cell_type": "markdown",
   "metadata": {},
   "source": [
    "~~~{sql}\n",
    "DROP TABLE IF EXISTS nobel;\n",
    "CREATE TABLE nobel (\n",
    "  year        INT,\n",
    "  category    TEXT,\n",
    "  name        TEXT,\n",
    "  motivation  TEXT\n",
    ");\n",
    "\n",
    ".mode csv\n",
    ".separator ';'\n",
    ".import nobel.csv nobel\n",
    "~~~\n"
   ]
  },
  {
   "cell_type": "markdown",
   "metadata": {},
   "source": [
    "To create a `sqlite`-file `nobel.sqlite` with all laureates,\n",
    "I only had to run the following command in a terminal (the\n",
    "exclamation sign tells `jupyter` to execute a shell\n",
    "command):"
   ]
  },
  {
   "cell_type": "code",
   "execution_count": null,
   "metadata": {},
   "outputs": [],
   "source": [
    "!sqlite3 nobel.sqlite < nobel.sql"
   ]
  },
  {
   "cell_type": "markdown",
   "metadata": {},
   "source": [
    "You can find information about running\n",
    "[SQLite](http://sqlite.org/) from a command line\n",
    "[here](https://sqlite.org/cli.html). I could have made\n",
    "things somewhat easier for myself by adding an extra header\n",
    "row first in my `.csv`-file, but I wanted to define the\n",
    "table myself, to make sure that `year` was saved as integers\n",
    "-- we'll return to this later in the course."
   ]
  }
 ],
 "metadata": {
  "kernelspec": {
   "display_name": "Python 2",
   "language": "python",
   "name": "python2"
  },
  "language_info": {
   "codemirror_mode": {
    "name": "ipython",
    "version": 2
   },
   "file_extension": ".py",
   "mimetype": "text/x-python",
   "name": "python",
   "nbconvert_exporter": "python",
   "pygments_lexer": "ipython2",
   "version": "2.7.17"
  }
 },
 "nbformat": 4,
 "nbformat_minor": 2
}
